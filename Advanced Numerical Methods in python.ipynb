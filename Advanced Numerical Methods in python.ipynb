{
 "cells": [
  {
   "cell_type": "markdown",
   "id": "686de572",
   "metadata": {},
   "source": [
    "# Advanced Numerical Methods in python\n",
    "\n",
    "In this tutorial, python is used to solve numerical methods problems.\n",
    "\n",
    "list of MATLAB algorithms:\n",
    "\n",
    "|code1|\n",
    "|:---:|\n",
    "|bisect.m|\n",
    "|bisect2.m|\n",
    "|false_position.m|\n",
    "|multiple1.m|\n",
    "|multiple2.m|\n",
    "|newtraph.m|\n",
    "\n",
    "|code2|\n",
    "|:---:|\n",
    "|Cubic_LS.m|\n",
    "|Gauss_Newton.m|\n",
    "|Lagrange_coef.m|\n",
    "|Lagrange_Eval.m|\n",
    "|Linear_LS.m|\n",
    "|linregr.m|\n",
    "|Multiple_Linear.m|\n",
    "|Newtint2.m|\n",
    "|quadratic.m|\n",
    "|Quadratic_LS.m|\n",
    "\n",
    "|code3|\n",
    "|:---:|\n",
    "|Cholesky.m|\n",
    "|GaussNaive.m|\n",
    "|GaussPivot.m|\n",
    "|LU_factor.m|\n",
    "|LU_pivot.m|\n",
    "|LU_Solve.m|\n",
    "|Tridiag.m|\n",
    "|Truss.m|\n",
    "\n",
    "|code4|\n",
    "|:---:|\n",
    "|fixed_pt_sys.m|\n",
    "|GaussSeidel.m|\n",
    "|InvPower.m|\n",
    "|LU_Solve_Gen.m|\n",
    "|Newton_sys.m|\n",
    "|Power_eig.m|\n",
    "|SOR.m|\n",
    "\n",
    "|code5|\n",
    "|:---:|\n",
    "|Gauss_quad.m|\n",
    "|quadadapt.m|\n",
    "|romberg.m|\n",
    "|Simp.m|\n",
    "|trap1.m|\n",
    "|trapuneq.m|\n",
    "\n",
    "|code6|\n",
    "|:---:|\n",
    "|Euler_sys.m|\n",
    "|eulode.m|\n",
    "|example2_e.m|\n",
    "|example2_f.m|\n",
    "|example3.m|\n",
    "|example5.m|\n",
    "|Heun_iter.m|\n",
    "|Midpoint.m|\n",
    "|RK4.m|\n",
    "|RK4_sys.m|\n",
    "\n",
    "|code6|\n",
    "|:---:|\n",
    "|example1_f.m|\n",
    "|example2_f.m|\n",
    "|linear_FD.m|\n",
    "|shoot_secant.m|\n",
    "\n",
    "Textbooks:\n",
    "Python Programming And Numerical Methods: A Guide For Engineers And Scientists\n",
    "[**ebook**](https://pythonnumericalmethods.berkeley.edu/notebooks/Index.html)\n",
    "[**pdf**](https://library.samdu.uz/files/8ea2cbd32e87c6d25a17c4b2510501d0_Python_Programming_and_Numerical_Methods_A_Guide_for_Engineers_and.pdf)"
   ]
  },
  {
   "cell_type": "code",
   "execution_count": 2,
   "id": "82c367d5",
   "metadata": {},
   "outputs": [],
   "source": [
    "# Import essential libraries\n",
    "import numpy as np\n",
    "import anm"
   ]
  },
  {
   "cell_type": "markdown",
   "id": "d7de2ee3",
   "metadata": {},
   "source": [
    "---\n",
    "# Lecture 3 Roots Finding\n",
    "## 1. Bisection Method"
   ]
  },
  {
   "cell_type": "code",
   "execution_count": 9,
   "id": "4483cecb",
   "metadata": {},
   "outputs": [],
   "source": [
    "def my_bisection(f, a, b, tol): \n",
    "    # approximates a root, R, of f bounded \n",
    "    # by a and b to within tolerance \n",
    "    # | f(m) | < tol with m the midpoint \n",
    "    # between a and b Recursive implementation\n",
    "    \n",
    "    # check if a and b bound a root\n",
    "    if np.sign(f(a)) == np.sign(f(b)):\n",
    "        raise Exception(\n",
    "         \"The scalars a and b do not bound a root\")\n",
    "        \n",
    "    # get midpoint\n",
    "    m = (a + b)/2\n",
    "    \n",
    "    if np.abs(f(m)) < tol:\n",
    "        # stopping condition, report m as root\n",
    "        return m\n",
    "    elif np.sign(f(a)) == np.sign(f(m)):\n",
    "        # case where m is an improvement on a. \n",
    "        # Make recursive call with a = m\n",
    "        return my_bisection(f, m, b, tol)\n",
    "    elif np.sign(f(b)) == np.sign(f(m)):\n",
    "        # case where m is an improvement on b. \n",
    "        # Make recursive call with b = m\n",
    "        return my_bisection(f, a, m, tol)"
   ]
  },
  {
   "cell_type": "code",
   "execution_count": 3,
   "id": "16c403d5",
   "metadata": {},
   "outputs": [
    {
     "data": {
      "text/plain": [
       "(0.7148059123627784, 2.220446049250313e-16, 1.2425448703470668e-13, 50)"
      ]
     },
     "execution_count": 3,
     "metadata": {},
     "output_type": "execute_result"
    }
   ],
   "source": [
    "# Example of Bisection Method\n",
    "f = lambda x: x*(np.e**(-x/2)) - 0.5\n",
    "anm.bisect(f, 0, 1, 1e-5)"
   ]
  },
  {
   "cell_type": "code",
   "execution_count": 4,
   "id": "95ddce22",
   "metadata": {},
   "outputs": [
    {
     "ename": "NameError",
     "evalue": "name 'my_bisection' is not defined",
     "output_type": "error",
     "traceback": [
      "\u001b[1;31m---------------------------------------------------------------------------\u001b[0m",
      "\u001b[1;31mNameError\u001b[0m                                 Traceback (most recent call last)",
      "Input \u001b[1;32mIn [4]\u001b[0m, in \u001b[0;36m<cell line: 3>\u001b[1;34m()\u001b[0m\n\u001b[0;32m      1\u001b[0m \u001b[38;5;66;03m# Matlab Example: Bisection\u001b[39;00m\n\u001b[0;32m      2\u001b[0m f2 \u001b[38;5;241m=\u001b[39m \u001b[38;5;28;01mlambda\u001b[39;00m m: np\u001b[38;5;241m.\u001b[39msqrt(\u001b[38;5;241m9.81\u001b[39m\u001b[38;5;241m*\u001b[39mm\u001b[38;5;241m/\u001b[39m\u001b[38;5;241m0.25\u001b[39m)\u001b[38;5;241m*\u001b[39mnp\u001b[38;5;241m.\u001b[39mtanh(np\u001b[38;5;241m.\u001b[39msqrt(\u001b[38;5;241m9.81\u001b[39m\u001b[38;5;241m*\u001b[39m\u001b[38;5;241m0.25\u001b[39m\u001b[38;5;241m/\u001b[39mm)\u001b[38;5;241m*\u001b[39m\u001b[38;5;241m4\u001b[39m)\u001b[38;5;241m-\u001b[39m\u001b[38;5;241m36\u001b[39m\n\u001b[1;32m----> 3\u001b[0m \u001b[43mmy_bisection\u001b[49m(f2, \u001b[38;5;241m40\u001b[39m, \u001b[38;5;241m200\u001b[39m, \u001b[38;5;241m1e-4\u001b[39m)\n",
      "\u001b[1;31mNameError\u001b[0m: name 'my_bisection' is not defined"
     ]
    }
   ],
   "source": [
    "# Matlab Example: Bisection\n",
    "f2 = lambda m: np.sqrt(9.81*m/0.25)*np.tanh(np.sqrt(9.81*0.25/m)*4)-36\n",
    "my_bisection(f2, 40, 200, 1e-4)"
   ]
  },
  {
   "cell_type": "markdown",
   "id": "8c9a5b5a",
   "metadata": {},
   "source": [
    "## 2. False-Position Method"
   ]
  },
  {
   "cell_type": "code",
   "execution_count": 5,
   "id": "da40fa53",
   "metadata": {},
   "outputs": [
    {
     "name": "stdout",
     "output_type": "stream",
     "text": [
      "enter lower bound xl = 0\n",
      "enter upper bound xu = 1\n",
      "allowable tolerance es = 0.001\n",
      "maximum number of iteration maxit = 100\n",
      "False position method has converged\n",
      "\tstep\txl\txu\txr\tf(xr)\n",
      "\t1\t0.0\t1.0\t0.8243606353500641\t0.04589561751025395\n",
      "\t2\t0.0\t0.8243606353500641\t0.7550533553555956\t0.0176305368332188\n",
      "\t3\t0.0\t0.7550533553555956\t0.7293361786332118\t0.006470807748721441\n",
      "\t4\t0.0\t0.7293361786332118\t0.7200179827492268\t0.0023349842072255544\n",
      "\t5\t0.0\t0.7200179827492268\t0.7166711511099948\t0.0008374083806060861\n",
      "\t6\t0.0\t0.7166711511099948\t0.715472865163227\t0.0002996612476933169\n",
      "\t7\t0.0\t0.715472865163227\t0.7150443230152455\t0.00010714701583858233\n"
     ]
    },
    {
     "data": {
      "text/plain": [
       "([0.8243606353500641,\n",
       "  0.7550533553555956,\n",
       "  0.7293361786332118,\n",
       "  0.7200179827492268,\n",
       "  0.7166711511099948,\n",
       "  0.715472865163227,\n",
       "  0.7150443230152455],\n",
       " [0.04589561751025395,\n",
       "  0.0176305368332188,\n",
       "  0.006470807748721441,\n",
       "  0.0023349842072255544,\n",
       "  0.0008374083806060861,\n",
       "  0.0002996612476933169,\n",
       "  0.00010714701583858233])"
      ]
     },
     "execution_count": 5,
     "metadata": {},
     "output_type": "execute_result"
    }
   ],
   "source": [
    "anm.false_position(f)"
   ]
  },
  {
   "cell_type": "markdown",
   "id": "b19109c3",
   "metadata": {},
   "source": [
    "## 4. Newton-Raphson Method"
   ]
  },
  {
   "cell_type": "code",
   "execution_count": 12,
   "id": "6ab3d71a",
   "metadata": {},
   "outputs": [],
   "source": [
    "def my_newton(f, df, x0, tol):\n",
    "    # output is an estimation of the root of f \n",
    "    # using the Newton Raphson method\n",
    "    # recursive implementation\n",
    "    if abs(f(x0)) < tol:\n",
    "        return x0\n",
    "    else:\n",
    "        return my_newton(f, df, x0 - f(x0)/df(x0), tol)"
   ]
  },
  {
   "cell_type": "code",
   "execution_count": 8,
   "id": "d59e41c2",
   "metadata": {},
   "outputs": [
    {
     "ename": "NameError",
     "evalue": "name 'my_newton' is not defined",
     "output_type": "error",
     "traceback": [
      "\u001b[1;31m---------------------------------------------------------------------------\u001b[0m",
      "\u001b[1;31mNameError\u001b[0m                                 Traceback (most recent call last)",
      "Input \u001b[1;32mIn [8]\u001b[0m, in \u001b[0;36m<cell line: 4>\u001b[1;34m()\u001b[0m\n\u001b[0;32m      1\u001b[0m df \u001b[38;5;241m=\u001b[39m  \u001b[38;5;28;01mlambda\u001b[39;00m m: \u001b[38;5;241m0.5\u001b[39m\u001b[38;5;241m*\u001b[39mnp\u001b[38;5;241m.\u001b[39msqrt(\u001b[38;5;241m9.81\u001b[39m\u001b[38;5;241m/\u001b[39m(m\u001b[38;5;241m*\u001b[39m\u001b[38;5;241m0.25\u001b[39m))\u001b[38;5;241m*\u001b[39m\\\n\u001b[0;32m      2\u001b[0m                 np\u001b[38;5;241m.\u001b[39mtanh(np\u001b[38;5;241m.\u001b[39msqrt(\u001b[38;5;241m9.81\u001b[39m\u001b[38;5;241m*\u001b[39m\u001b[38;5;241m0.25\u001b[39m\u001b[38;5;241m/\u001b[39mm)\u001b[38;5;241m*\u001b[39m\u001b[38;5;241m4\u001b[39m)\u001b[38;5;241m-\u001b[39m\u001b[38;5;241m9.81\u001b[39m\u001b[38;5;241m/\u001b[39m(\u001b[38;5;241m2\u001b[39m\u001b[38;5;241m*\u001b[39mm)\u001b[38;5;241m*\u001b[39m\u001b[38;5;241m4\u001b[39m\u001b[38;5;241m*\u001b[39m\\\n\u001b[0;32m      3\u001b[0m                 np\u001b[38;5;241m.\u001b[39mcosh(np\u001b[38;5;241m.\u001b[39msqrt(\u001b[38;5;241m9.81\u001b[39m\u001b[38;5;241m*\u001b[39m\u001b[38;5;241m0.25\u001b[39m\u001b[38;5;241m/\u001b[39mm)\u001b[38;5;241m*\u001b[39m\u001b[38;5;241m4\u001b[39m)\u001b[38;5;241m*\u001b[39m\u001b[38;5;241m*\u001b[39m\u001b[38;5;241m-\u001b[39m\u001b[38;5;241m2\u001b[39m\n\u001b[1;32m----> 4\u001b[0m \u001b[43mmy_newton\u001b[49m(f2, df, \u001b[38;5;241m140\u001b[39m, \u001b[38;5;241m1e-5\u001b[39m)\n",
      "\u001b[1;31mNameError\u001b[0m: name 'my_newton' is not defined"
     ]
    }
   ],
   "source": [
    "df =  lambda m: 0.5*np.sqrt(9.81/(m*0.25))*\\\n",
    "                np.tanh(np.sqrt(9.81*0.25/m)*4)-9.81/(2*m)*4*\\\n",
    "                np.cosh(np.sqrt(9.81*0.25/m)*4)**-2\n",
    "my_newton(f2, df, 140, 1e-5)"
   ]
  },
  {
   "cell_type": "code",
   "execution_count": 9,
   "id": "0fb6d22e",
   "metadata": {},
   "outputs": [
    {
     "data": {
      "text/plain": [
       "(142.73763310844893, 2.3894225071373976e-13, 50)"
      ]
     },
     "execution_count": 9,
     "metadata": {},
     "output_type": "execute_result"
    }
   ],
   "source": [
    "anm.newtraph(f2, df, 140)"
   ]
  },
  {
   "cell_type": "markdown",
   "id": "e09aed94",
   "metadata": {},
   "source": [
    "## 5.2 Modified Newton's Method"
   ]
  },
  {
   "cell_type": "code",
   "execution_count": 13,
   "id": "eefcf093",
   "metadata": {},
   "outputs": [
    {
     "name": "stdout",
     "output_type": "stream",
     "text": [
      "enter multiplicity of the root = 0.1\n",
      "enter initial guess: xguess = 140\n",
      "allowable tolerance es = 0.001\n",
      "maximum number of iterations: maxit = 100\n",
      "Newton method has converged\n",
      "\tstep\tx\tf\tdf/dx\n",
      "\t1\t140.0\t-0.05698528372746381\t0.021181693040110694\n",
      "\t2\t140.26903082590968\t-0.05698528372746381\t0.021181693040110694\n",
      "\t3\t140.53806165181936\t-0.05129658930001568\t0.021108649673659413\n",
      "\t4\t140.78107382973252\t-0.045627494986568706\t0.02103598354880283\n",
      "\t5\t140.99797595309042\t-0.04052343730668184\t0.02097066726933884\n",
      "\t6\t141.191214617298\t-0.0359811541088888\t0.02091262543268728\n",
      "\t7\t141.36326931327437\t-0.03194500593200189\t0.020861118574582144\n",
      "\t8\t141.51640111115853\t-0.028359686155503994\t0.020815418204213787\n",
      "\t9\t141.65264476419148\t-0.02517528984584061\t0.020774870257143932\n",
      "\t10\t141.77382621819928\t-0.022347297483250372\t0.020738893676393838\n",
      "\t11\t141.88158171293276\t-0.019836063040330032\t0.02070697291112983\n",
      "\t12\t141.9773758356443\t-0.017606299394977043\t0.020678650589591535\n",
      "\t13\t142.06251823562198\t-0.015626610204719782\t0.02065352095045983\n",
      "\t14\t142.13817899216903\t-0.013869069326815975\t0.02063122401158718\n",
      "\t15\t142.20540267855344\t-0.012308843910695089\t0.020611440398909164\n",
      "\t16\t142.26512118280385\t-0.01092385704120602\t0.020593886760947797\n",
      "\t17\t142.31816535638802\t-0.009694486074728559\t0.020578311702266275\n",
      "\t18\t142.36527556744417\t-0.008603293120941657\t0.020564492176857768\n",
      "\t19\t142.40711123762242\t-0.007634784427359875\t0.020552230289229034\n",
      "\t20\t142.4442594415882\t-0.006775195712222626\t0.020541350456931548\n",
      "\t21\t142.4772426464969\t-0.006012300763060807\t0.0205316968935787\n",
      "\t22\t142.5065256657925\t-0.005335240871140456\t0.02052313137606064\n",
      "\t23\t142.5325218979141\t-0.004734372906476381\t0.020515531263801345\n",
      "\t24\t142.55559891622573\t-0.004201134053928968\t0.020508787741555443\n",
      "\t25\t142.57608347195313\t-0.0037279214291601193\t0.020502804260479818\n",
      "\t26\t142.59426596729278\t-0.0033079849735742073\t0.02049749515507855\n",
      "\t27\t142.61040445128094\t-0.002935332192400608\t0.020492784416159246\n",
      "\t28\t142.62472818656644\t-0.0026046434488762316\t0.020488604602184865\n",
      "\t29\t142.63744083098246\t-0.002311196662816428\t0.02048489587340052\n",
      "\t30\t142.64872327379837\t-0.0020508003835075783\t0.020481605134878553\n",
      "\t31\t142.65873616277852\t-0.0018197343169532587\t0.02047868527619337\n",
      "\t32\t142.6676221546887\t-0.0016146964858236856\t0.020476094496824124\n",
      "\t33\t142.67550791867595\t-0.0014327562895743995\t0.020473795707614692\n",
      "\t34\t142.6825059189981\t-0.0012713128112267214\t0.02047175599971357\n",
      "\t35\t142.6887160008848\t-0.0011280577888683752\t0.020469946173382672\n",
      "\t36\t142.6942268008611\t-0.0010009427332562382\t0.020468340319924158\n",
      "\t37\t142.6991170006409\t-0.0008881497300663455\t0.020466915450735604\n",
      "\t38\t142.70345644168762\t-0.0007880655159695493\t0.020465651168180055\n",
      "\t39\t142.7073071157243\t-0.0006992584632570242\t0.020464529373555335\n",
      "\t40\t142.7107240448434\t-0.0006204581477646798\t0.020463534007982245\n",
      "\t41\t142.7137560633966\t-0.0005505372114456009\t0.02046265082249768\n",
      "\t42\t142.71644651252865\t-0.000488495262530364\t0.02046186717406294\n",
      "\t43\t142.7188338570382\t-0.0004334445851341684\t0.02046117184456417\n",
      "\t44\t142.72095223319195\t-0.0003845974553371434\t0.020460554880213644\n",
      "\t45\t142.72283193517262\t-0.0003412548836152496\t0.020460007449052978\n",
      "\t46\t142.7244998469975\t-0.00030279662360754855\t0.020459521714516038\n",
      "\t47\t142.72597982599132\t-0.00026867230483418325\t0.020459090723243742\n",
      "\t48\t142.72729304322306\t-0.00023839356332189254\t0.020458708305542014\n",
      "\t49\t142.7284582857191\t-0.00021152705783578085\t0.020458368987059578\n",
      "\t50\t142.72949222472946\t-0.0001876882723053086\t0.020458067910419667\n",
      "\t51\t142.730409653849\t-0.0001665360159250895\t0.020457800765684986\n"
     ]
    },
    {
     "data": {
      "text/plain": [
       "([140.0,\n",
       "  140.26903082590968,\n",
       "  140.53806165181936,\n",
       "  140.78107382973252,\n",
       "  140.99797595309042,\n",
       "  141.191214617298,\n",
       "  141.36326931327437,\n",
       "  141.51640111115853,\n",
       "  141.65264476419148,\n",
       "  141.77382621819928,\n",
       "  141.88158171293276,\n",
       "  141.9773758356443,\n",
       "  142.06251823562198,\n",
       "  142.13817899216903,\n",
       "  142.20540267855344,\n",
       "  142.26512118280385,\n",
       "  142.31816535638802,\n",
       "  142.36527556744417,\n",
       "  142.40711123762242,\n",
       "  142.4442594415882,\n",
       "  142.4772426464969,\n",
       "  142.5065256657925,\n",
       "  142.5325218979141,\n",
       "  142.55559891622573,\n",
       "  142.57608347195313,\n",
       "  142.59426596729278,\n",
       "  142.61040445128094,\n",
       "  142.62472818656644,\n",
       "  142.63744083098246,\n",
       "  142.64872327379837,\n",
       "  142.65873616277852,\n",
       "  142.6676221546887,\n",
       "  142.67550791867595,\n",
       "  142.6825059189981,\n",
       "  142.6887160008848,\n",
       "  142.6942268008611,\n",
       "  142.6991170006409,\n",
       "  142.70345644168762,\n",
       "  142.7073071157243,\n",
       "  142.7107240448434,\n",
       "  142.7137560633966,\n",
       "  142.71644651252865,\n",
       "  142.7188338570382,\n",
       "  142.72095223319195,\n",
       "  142.72283193517262,\n",
       "  142.7244998469975,\n",
       "  142.72597982599132,\n",
       "  142.72729304322306,\n",
       "  142.7284582857191,\n",
       "  142.72949222472946,\n",
       "  142.730409653849],\n",
       " [-0.05698528372746381,\n",
       "  -0.05698528372746381,\n",
       "  -0.05129658930001568,\n",
       "  -0.045627494986568706,\n",
       "  -0.04052343730668184,\n",
       "  -0.0359811541088888,\n",
       "  -0.03194500593200189,\n",
       "  -0.028359686155503994,\n",
       "  -0.02517528984584061,\n",
       "  -0.022347297483250372,\n",
       "  -0.019836063040330032,\n",
       "  -0.017606299394977043,\n",
       "  -0.015626610204719782,\n",
       "  -0.013869069326815975,\n",
       "  -0.012308843910695089,\n",
       "  -0.01092385704120602,\n",
       "  -0.009694486074728559,\n",
       "  -0.008603293120941657,\n",
       "  -0.007634784427359875,\n",
       "  -0.006775195712222626,\n",
       "  -0.006012300763060807,\n",
       "  -0.005335240871140456,\n",
       "  -0.004734372906476381,\n",
       "  -0.004201134053928968,\n",
       "  -0.0037279214291601193,\n",
       "  -0.0033079849735742073,\n",
       "  -0.002935332192400608,\n",
       "  -0.0026046434488762316,\n",
       "  -0.002311196662816428,\n",
       "  -0.0020508003835075783,\n",
       "  -0.0018197343169532587,\n",
       "  -0.0016146964858236856,\n",
       "  -0.0014327562895743995,\n",
       "  -0.0012713128112267214,\n",
       "  -0.0011280577888683752,\n",
       "  -0.0010009427332562382,\n",
       "  -0.0008881497300663455,\n",
       "  -0.0007880655159695493,\n",
       "  -0.0006992584632570242,\n",
       "  -0.0006204581477646798,\n",
       "  -0.0005505372114456009,\n",
       "  -0.000488495262530364,\n",
       "  -0.0004334445851341684,\n",
       "  -0.0003845974553371434,\n",
       "  -0.0003412548836152496,\n",
       "  -0.00030279662360754855,\n",
       "  -0.00026867230483418325,\n",
       "  -0.00023839356332189254,\n",
       "  -0.00021152705783578085,\n",
       "  -0.0001876882723053086,\n",
       "  -0.0001665360159250895])"
      ]
     },
     "execution_count": 13,
     "metadata": {},
     "output_type": "execute_result"
    }
   ],
   "source": [
    "anm.multiple(f2, df)"
   ]
  },
  {
   "cell_type": "markdown",
   "id": "84c0c448",
   "metadata": {},
   "source": [
    "## 5.3 Modified Newton's Method with u = f/f'"
   ]
  },
  {
   "cell_type": "code",
   "execution_count": 15,
   "id": "7e384188",
   "metadata": {},
   "outputs": [
    {
     "ename": "NameError",
     "evalue": "name 'ddf' is not defined",
     "output_type": "error",
     "traceback": [
      "\u001b[1;31m---------------------------------------------------------------------------\u001b[0m",
      "\u001b[1;31mNameError\u001b[0m                                 Traceback (most recent call last)",
      "Input \u001b[1;32mIn [15]\u001b[0m, in \u001b[0;36m<cell line: 1>\u001b[1;34m()\u001b[0m\n\u001b[1;32m----> 1\u001b[0m anm\u001b[38;5;241m.\u001b[39mmultiple2(f2, df, \u001b[43mddf\u001b[49m)\n",
      "\u001b[1;31mNameError\u001b[0m: name 'ddf' is not defined"
     ]
    }
   ],
   "source": [
    "anm.multiple2(f2, df, ddf)"
   ]
  },
  {
   "cell_type": "markdown",
   "id": "ae91cba4",
   "metadata": {},
   "source": [
    "## 7. Secant Method"
   ]
  },
  {
   "cell_type": "code",
   "execution_count": null,
   "id": "8857e2c8",
   "metadata": {},
   "outputs": [],
   "source": []
  },
  {
   "cell_type": "markdown",
   "id": "d3e0131a",
   "metadata": {},
   "source": [
    "## 8. MATLAB function: fzero"
   ]
  },
  {
   "cell_type": "code",
   "execution_count": null,
   "id": "c56da9fe",
   "metadata": {},
   "outputs": [],
   "source": []
  },
  {
   "cell_type": "markdown",
   "id": "b285a5a7",
   "metadata": {},
   "source": [
    "## 9.1 Muller's Method"
   ]
  },
  {
   "cell_type": "code",
   "execution_count": null,
   "id": "6b3cf990",
   "metadata": {},
   "outputs": [],
   "source": []
  },
  {
   "cell_type": "markdown",
   "id": "2be01bec",
   "metadata": {},
   "source": [
    "## 9.3 MATLAB function: roots"
   ]
  },
  {
   "cell_type": "code",
   "execution_count": null,
   "id": "dfee4c1f",
   "metadata": {},
   "outputs": [],
   "source": []
  },
  {
   "cell_type": "markdown",
   "id": "9a64af79",
   "metadata": {},
   "source": [
    "## fsolve function"
   ]
  },
  {
   "cell_type": "code",
   "execution_count": 11,
   "id": "c26f09fb",
   "metadata": {},
   "outputs": [],
   "source": [
    "from scipy.optimize import fsolve"
   ]
  },
  {
   "cell_type": "code",
   "execution_count": 13,
   "id": "6b7fb4c0",
   "metadata": {},
   "outputs": [
    {
     "data": {
      "text/plain": [
       "array([-2.,  3.])"
      ]
     },
     "execution_count": 13,
     "metadata": {},
     "output_type": "execute_result"
    }
   ],
   "source": [
    "f = lambda x: x**6 -6*x**5 +14*x**4 +10*x**3 -111*x**2 +56*x +156\n",
    "fsolve(f, [-3, 3])"
   ]
  },
  {
   "cell_type": "code",
   "execution_count": 16,
   "id": "39a6c101",
   "metadata": {},
   "outputs": [
    {
     "data": {
      "text/plain": [
       "array([0.99999999, 3.00004243])"
      ]
     },
     "execution_count": 16,
     "metadata": {},
     "output_type": "execute_result"
    }
   ],
   "source": [
    "f = lambda x: x**5 -11*x**4 +46*x**3 -90*x**2 +81*x -27\n",
    "fsolve(f, [-1, 4])"
   ]
  },
  {
   "cell_type": "markdown",
   "id": "8c71c3bb",
   "metadata": {},
   "source": [
    "---\n",
    "# Lecture 4: Interpolation and Polynomial Approximation\n",
    "## 1.1 Linear Least Square"
   ]
  },
  {
   "cell_type": "code",
   "execution_count": 69,
   "id": "46eb6512",
   "metadata": {},
   "outputs": [
    {
     "name": "stdout",
     "output_type": "stream",
     "text": [
      "[[0.83928571]\n",
      " [0.07142857]]\n"
     ]
    },
    {
     "data": {
      "image/png": "[encoded data removed]",
      "text/plain": [
       "<Figure size 720x576 with 1 Axes>"
      ]
     },
     "metadata": {
      "needs_background": "light"
     },
     "output_type": "display_data"
    }
   ],
   "source": [
    "x = np.arange(1,8)\n",
    "y = np.array([0.5, 2.5, 2.0, 4.0, 3.5, 6.0, 5.5])\n",
    "\n",
    "# assemble matrix A\n",
    "A = np.vstack([x, np.ones(len(x))]).T\n",
    "\n",
    "# turn y into a column vector\n",
    "y = y[:, np.newaxis]\n",
    "\n",
    "# Direct least square regression\n",
    "alpha = np.dot((np.dot(np.linalg.inv(np.dot(A.T,A)),A.T)),y)\n",
    "print(alpha)\n",
    "\n",
    "# plot the results\n",
    "plt.figure(figsize = (10,8))\n",
    "plt.plot(x, y, 'b.')\n",
    "plt.plot(x, alpha[0]*x + alpha[1], 'r')\n",
    "plt.xlabel('x')\n",
    "plt.ylabel('y')\n",
    "plt.show()"
   ]
  },
  {
   "cell_type": "markdown",
   "id": "7c422876",
   "metadata": {},
   "source": [
    "## 1.1.3 Least Square Regression for Nonlinear Functions\n",
    "### Exponential equation"
   ]
  },
  {
   "cell_type": "code",
   "execution_count": 22,
   "id": "2ef5915f",
   "metadata": {},
   "outputs": [
    {
     "name": "stdout",
     "output_type": "stream",
     "text": [
      "alpha=0.1365056048572495, beta=0.26611715342485803\n"
     ]
    },
    {
     "data": {
      "image/png": "[encoded data removed]",
      "text/plain": [
       "<Figure size 720x576 with 1 Axes>"
      ]
     },
     "metadata": {
      "needs_background": "light"
     },
     "output_type": "display_data"
    }
   ],
   "source": [
    "# let's generate x and y, and add some noise into y\n",
    "x = np.linspace(0, 10, 101)\n",
    "y = 0.1*np.exp(0.3*x) + 0.1*np.random.random(len(x))\n",
    "\n",
    "A = np.vstack([x, np.ones(len(x))]).T\n",
    "beta, log_alpha = np.linalg.lstsq(A, np.log(y), rcond = None)[0]\n",
    "alpha = np.exp(log_alpha)\n",
    "print(f'alpha={alpha}, beta={beta}')\n",
    "\n",
    "# Let's have a look of the data\n",
    "plt.figure(figsize = (10,8))\n",
    "plt.plot(x, y, 'b.')\n",
    "plt.plot(x, alpha*np.exp(beta*x), 'r')\n",
    "plt.xlabel('x')\n",
    "plt.ylabel('y')\n",
    "plt.show()"
   ]
  },
  {
   "cell_type": "markdown",
   "id": "39566df6",
   "metadata": {},
   "source": [
    "### Power equation (need to change)"
   ]
  },
  {
   "cell_type": "code",
   "execution_count": 23,
   "id": "d2a7eaf9",
   "metadata": {},
   "outputs": [
    {
     "name": "stdout",
     "output_type": "stream",
     "text": [
      "alpha=0.1353212723076572, beta=0.2660475406068311\n"
     ]
    },
    {
     "data": {
      "image/png": "[encoded data removed]",
      "text/plain": [
       "<Figure size 720x576 with 1 Axes>"
      ]
     },
     "metadata": {
      "needs_background": "light"
     },
     "output_type": "display_data"
    }
   ],
   "source": [
    "# let's generate x and y, and add some noise into y\n",
    "x = np.linspace(0, 10, 101)\n",
    "y = 0.1*np.exp(0.3*x) + 0.1*np.random.random(len(x))\n",
    "\n",
    "A = np.vstack([x, np.ones(len(x))]).T\n",
    "beta, log_alpha = np.linalg.lstsq(A, np.log(y), rcond = None)[0]\n",
    "alpha = np.exp(log_alpha)\n",
    "print(f'alpha={alpha}, beta={beta}')\n",
    "\n",
    "# Let's have a look of the data\n",
    "plt.figure(figsize = (10,8))\n",
    "plt.plot(x, y, 'b.')\n",
    "plt.plot(x, alpha*np.exp(beta*x), 'r')\n",
    "plt.xlabel('x')\n",
    "plt.ylabel('y')\n",
    "plt.show()"
   ]
  },
  {
   "cell_type": "markdown",
   "id": "96d0db4c",
   "metadata": {},
   "source": [
    "## optimize.curve_fit"
   ]
  },
  {
   "cell_type": "code",
   "execution_count": 26,
   "id": "6262e707",
   "metadata": {},
   "outputs": [],
   "source": [
    "from scipy.optimize import curve_fit"
   ]
  },
  {
   "cell_type": "code",
   "execution_count": 27,
   "id": "1985c123",
   "metadata": {},
   "outputs": [
    {
     "name": "stdout",
     "output_type": "stream",
     "text": [
      "alpha=0.12295995684145532, beta=0.28034391106714474\n"
     ]
    },
    {
     "data": {
      "image/png": "[encoded data removed]",
      "text/plain": [
       "<Figure size 720x576 with 1 Axes>"
      ]
     },
     "metadata": {
      "needs_background": "light"
     },
     "output_type": "display_data"
    }
   ],
   "source": [
    "# let's define the function form\n",
    "def func(x, a, b):\n",
    "    y = a*np.exp(b*x)\n",
    "    return y\n",
    "\n",
    "alpha, beta = curve_fit(func, xdata = x, ydata = y)[0]\n",
    "print(f'alpha={alpha}, beta={beta}')\n",
    "\n",
    "# Let's have a look of the data\n",
    "plt.figure(figsize = (10,8))\n",
    "plt.plot(x, y, 'b.')\n",
    "plt.plot(x, alpha*np.exp(beta*x), 'r')\n",
    "plt.xlabel('x')\n",
    "plt.ylabel('y')\n",
    "plt.show()"
   ]
  },
  {
   "cell_type": "markdown",
   "id": "be71b650",
   "metadata": {},
   "source": [
    "## 1.2 Polynomial Regression"
   ]
  },
  {
   "cell_type": "code",
   "execution_count": 24,
   "id": "9638ce01",
   "metadata": {},
   "outputs": [
    {
     "data": {
      "image/png": "[encoded data removed]",
      "text/plain": [
       "<Figure size 864x576 with 6 Axes>"
      ]
     },
     "metadata": {
      "needs_background": "light"
     },
     "output_type": "display_data"
    }
   ],
   "source": [
    "# numpy.polyfit and numpy.polyval are used\n",
    "\n",
    "x_d = np.array([0, 1, 2, 3, 4, 5, 6, 7, 8])\n",
    "y_d = np.array([0, 0.8, 0.9, 0.1, -0.6, -0.8, -1, -0.9, -0.4])\n",
    "\n",
    "plt.figure(figsize = (12, 8))\n",
    "for i in range(1, 7):\n",
    "    \n",
    "    # get the polynomial coefficients\n",
    "    y_est = np.polyfit(x_d, y_d, i)\n",
    "    plt.subplot(2,3,i)\n",
    "    plt.plot(x_d, y_d, 'o')\n",
    "    # evaluate the values for a polynomial\n",
    "    plt.plot(x_d, np.polyval(y_est, x_d))\n",
    "    plt.title(f'Polynomial order {i}')\n",
    "\n",
    "plt.tight_layout()\n",
    "plt.show()"
   ]
  },
  {
   "cell_type": "markdown",
   "id": "f7c1cc02",
   "metadata": {},
   "source": [
    "## 1.3 Multi-variable Linear Regression"
   ]
  },
  {
   "cell_type": "code",
   "execution_count": null,
   "id": "552b7935",
   "metadata": {},
   "outputs": [],
   "source": []
  },
  {
   "cell_type": "markdown",
   "id": "0fb09c36",
   "metadata": {},
   "source": [
    "## 1.4 Nonlinear Regression\n",
    "### 1.4.1 Gauss-Newton Method"
   ]
  },
  {
   "cell_type": "code",
   "execution_count": null,
   "id": "202322f5",
   "metadata": {},
   "outputs": [],
   "source": []
  },
  {
   "cell_type": "markdown",
   "id": "a803bc7d",
   "metadata": {},
   "source": [
    "## 2. Polynomial Interpolation\n",
    "### ill-conditioned matrix"
   ]
  },
  {
   "cell_type": "code",
   "execution_count": 55,
   "id": "bb3e53e0",
   "metadata": {},
   "outputs": [],
   "source": [
    "A = [[250**3, 250**2, 250, 1],\n",
    "     [300**3, 300**2, 300, 1],\n",
    "     [400**3, 400**2, 400, 1],\n",
    "     [500**3, 500**2, 500, 1]]\n",
    "\n",
    "b = [0.675, 0.616, 0.525, 0.457]"
   ]
  },
  {
   "cell_type": "code",
   "execution_count": 56,
   "id": "ccdfba36",
   "metadata": {},
   "outputs": [
    {
     "data": {
      "text/plain": [
       "array([-2.600e-09,  4.270e-06, -2.937e-03,  1.183e+00])"
      ]
     },
     "execution_count": 56,
     "metadata": {},
     "output_type": "execute_result"
    }
   ],
   "source": [
    "# matrix left division\n",
    "np.linalg.lstsq(A, b, rcond=None)[0]"
   ]
  },
  {
   "cell_type": "markdown",
   "id": "5c9491bc",
   "metadata": {},
   "source": [
    "## 2.1 Newton Polynomials\n",
    "### 2.1.1 Newton Linear Interpolation"
   ]
  },
  {
   "cell_type": "code",
   "execution_count": 60,
   "id": "9992813b",
   "metadata": {},
   "outputs": [],
   "source": [
    "from scipy.interpolate import interp1d"
   ]
  },
  {
   "cell_type": "code",
   "execution_count": 63,
   "id": "0fe3d46c",
   "metadata": {},
   "outputs": [
    {
     "name": "stdout",
     "output_type": "stream",
     "text": [
      "39.14200114698843\n"
     ]
    },
    {
     "data": {
      "image/png": "[encoded data removed]",
      "text/plain": [
       "<Figure size 720x576 with 1 Axes>"
      ]
     },
     "metadata": {
      "needs_background": "light"
     },
     "output_type": "display_data"
    }
   ],
   "source": [
    "# Example 1:\n",
    "\n",
    "x = [1, 5]\n",
    "y = [np.e**1, np.e**5]\n",
    "xr = 2\n",
    "\n",
    "f = interp1d(x, y)\n",
    "y_hat = f(xr)\n",
    "print(y_hat)\n",
    "\n",
    "plt.figure(figsize = (10,8))\n",
    "plt.plot(x, y, '-ob')\n",
    "plt.plot(xr, y_hat, 'ro')\n",
    "plt.title('Linear Interpolation at x = ' + str(xr))\n",
    "plt.xlabel('x')\n",
    "plt.ylabel('y')\n",
    "plt.show()"
   ]
  },
  {
   "cell_type": "code",
   "execution_count": 64,
   "id": "c4069c23",
   "metadata": {},
   "outputs": [
    {
     "name": "stdout",
     "output_type": "stream",
     "text": [
      "8.332091515520768\n"
     ]
    },
    {
     "data": {
      "image/png": "[encoded data removed]",
      "text/plain": [
       "<Figure size 720x576 with 1 Axes>"
      ]
     },
     "metadata": {
      "needs_background": "light"
     },
     "output_type": "display_data"
    }
   ],
   "source": [
    "# Example 2:\n",
    "\n",
    "x = [2.5, 1.5]\n",
    "y = [np.e**2.5, np.e**1.5]\n",
    "xr = 2\n",
    "\n",
    "f = interp1d(x, y)\n",
    "y_hat = f(xr)\n",
    "print(y_hat)\n",
    "\n",
    "plt.figure(figsize = (10,8))\n",
    "plt.plot(x, y, '-ob')\n",
    "plt.plot(xr, y_hat, 'ro')\n",
    "plt.title('Linear Interpolation at x = ' + str(xr))\n",
    "plt.xlabel('x')\n",
    "plt.ylabel('y')\n",
    "plt.show()"
   ]
  },
  {
   "cell_type": "code",
   "execution_count": 66,
   "id": "0ceac154",
   "metadata": {},
   "outputs": [
    {
     "name": "stdout",
     "output_type": "stream",
     "text": [
      "True value: 7.3890560989306495\n"
     ]
    }
   ],
   "source": [
    "print(\"True value: {}\".format(np.e**2))"
   ]
  },
  {
   "cell_type": "markdown",
   "id": "5e24d0a6",
   "metadata": {},
   "source": [
    "### 2.1.2 Newton Quadratic Interpolation"
   ]
  },
  {
   "cell_type": "code",
   "execution_count": null,
   "id": "f7366f19",
   "metadata": {},
   "outputs": [],
   "source": []
  },
  {
   "cell_type": "markdown",
   "id": "78ec0226",
   "metadata": {},
   "source": [
    "### 2.1.3 Newton's Interpolating Polynomials"
   ]
  },
  {
   "cell_type": "code",
   "execution_count": null,
   "id": "358a1824",
   "metadata": {},
   "outputs": [],
   "source": []
  },
  {
   "cell_type": "markdown",
   "id": "49010bf0",
   "metadata": {},
   "source": [
    "### 2.1.4 Newton's Divided Differences"
   ]
  },
  {
   "cell_type": "code",
   "execution_count": 67,
   "id": "d1ace81b",
   "metadata": {},
   "outputs": [],
   "source": [
    "def divided_diff(x, y):\n",
    "    '''\n",
    "    function to calculate the divided\n",
    "    differences table\n",
    "    '''\n",
    "    n = len(y)\n",
    "    coef = np.zeros([n, n])\n",
    "    # the first column is y\n",
    "    coef[:,0] = y\n",
    "    \n",
    "    for j in range(1,n):\n",
    "        for i in range(n-j):\n",
    "            coef[i][j] = \\\n",
    "           (coef[i+1][j-1] - coef[i][j-1]) / (x[i+j]-x[i])\n",
    "            \n",
    "    return coef\n",
    "\n",
    "def newton_poly(coef, x_data, x):\n",
    "    '''\n",
    "    evaluate the newton polynomial \n",
    "    at x\n",
    "    '''\n",
    "    n = len(x_data) - 1 \n",
    "    p = coef[n]\n",
    "    for k in range(1,n+1):\n",
    "        p = coef[n-k] + (x -x_data[n-k])*p\n",
    "    return p"
   ]
  },
  {
   "cell_type": "code",
   "execution_count": 68,
   "id": "6e559f49",
   "metadata": {},
   "outputs": [
    {
     "data": {
      "text/plain": [
       "[<matplotlib.lines.Line2D at 0x20d5e3d0220>]"
      ]
     },
     "execution_count": 68,
     "metadata": {},
     "output_type": "execute_result"
    },
    {
     "data": {
      "image/png": "[encoded data removed]",
      "text/plain": [
       "<Figure size 864x576 with 1 Axes>"
      ]
     },
     "metadata": {
      "needs_background": "light"
     },
     "output_type": "display_data"
    }
   ],
   "source": [
    "x = np.array([-5, -1, 0, 2])\n",
    "y = np.array([-2, 6, 1, 3])\n",
    "# get the divided difference coef\n",
    "a_s = divided_diff(x, y)[0, :]\n",
    "\n",
    "# evaluate on new data points\n",
    "x_new = np.arange(-5, 2.1, .1)\n",
    "y_new = newton_poly(a_s, x, x_new)\n",
    "\n",
    "plt.figure(figsize = (12, 8))\n",
    "plt.plot(x, y, 'bo')\n",
    "plt.plot(x_new, y_new)"
   ]
  },
  {
   "cell_type": "markdown",
   "id": "1a0359ab",
   "metadata": {},
   "source": [
    "## 2.2 Lagrange Interpolating Polynomials\n",
    "### 2.2.1 Linear Lagrange Interpolation"
   ]
  },
  {
   "cell_type": "code",
   "execution_count": null,
   "id": "85b8567d",
   "metadata": {},
   "outputs": [],
   "source": []
  },
  {
   "cell_type": "markdown",
   "id": "5497b33c",
   "metadata": {},
   "source": [
    "### 2.2.2 Quadratic Lagrange Interpolation"
   ]
  },
  {
   "cell_type": "code",
   "execution_count": null,
   "id": "b752b05c",
   "metadata": {},
   "outputs": [],
   "source": []
  },
  {
   "cell_type": "markdown",
   "id": "af5e1dfd",
   "metadata": {},
   "source": [
    "### 2.2.4 Error Bound of Polynomial Interpolation"
   ]
  },
  {
   "cell_type": "code",
   "execution_count": null,
   "id": "0dc24dcc",
   "metadata": {},
   "outputs": [],
   "source": []
  },
  {
   "cell_type": "markdown",
   "id": "2cd1dec4",
   "metadata": {},
   "source": [
    "## 2.3 Spline Interpolation\n",
    "### 2.3.1 Linear Splines"
   ]
  },
  {
   "cell_type": "code",
   "execution_count": null,
   "id": "a6c1028e",
   "metadata": {},
   "outputs": [],
   "source": []
  },
  {
   "cell_type": "markdown",
   "id": "85e06903",
   "metadata": {},
   "source": [
    "### 2.3.2 Quadratic Splines"
   ]
  },
  {
   "cell_type": "code",
   "execution_count": null,
   "id": "526edbc3",
   "metadata": {},
   "outputs": [],
   "source": []
  },
  {
   "cell_type": "markdown",
   "id": "32014467",
   "metadata": {},
   "source": [
    "### 2.3.3 Cubic Splines"
   ]
  },
  {
   "cell_type": "code",
   "execution_count": null,
   "id": "9e36effa",
   "metadata": {},
   "outputs": [],
   "source": []
  },
  {
   "cell_type": "markdown",
   "id": "6254a182",
   "metadata": {},
   "source": [
    "---\n",
    "# Lecture 5: Linear System\n",
    "### 1.2.1 Scalars, Vectors, Matrices"
   ]
  },
  {
   "cell_type": "code",
   "execution_count": 1,
   "id": "88310a29",
   "metadata": {},
   "outputs": [],
   "source": [
    "# numpy scaler, vector, and matrices"
   ]
  },
  {
   "cell_type": "markdown",
   "id": "528628c2",
   "metadata": {},
   "source": [
    "### 1.2.2 Square Matrix"
   ]
  },
  {
   "cell_type": "code",
   "execution_count": 2,
   "id": "22e5495b",
   "metadata": {},
   "outputs": [],
   "source": [
    "# numpy square matrix"
   ]
  },
  {
   "cell_type": "markdown",
   "id": "114f72dd",
   "metadata": {},
   "source": [
    "### 1.2.3 Special Matrices"
   ]
  },
  {
   "cell_type": "code",
   "execution_count": null,
   "id": "96155103",
   "metadata": {},
   "outputs": [],
   "source": [
    "# symmetric matrics\n",
    "\n",
    "# transpose\n",
    "\n",
    "# trace (sum of diagonal values)\n",
    "\n",
    "# Diagonal matrix\n",
    "\n",
    "# Identity matrix\n",
    "\n",
    "# Banded matrix\n",
    "\n",
    "# lower triangular\n",
    "\n",
    "# Upper triangular\n"
   ]
  },
  {
   "cell_type": "markdown",
   "id": "81b6bbb3",
   "metadata": {},
   "source": [
    "## 1.3 Matrix Operation Rules"
   ]
  },
  {
   "cell_type": "code",
   "execution_count": 3,
   "id": "25d92021",
   "metadata": {},
   "outputs": [],
   "source": [
    "# Matrix identity\n"
   ]
  },
  {
   "cell_type": "markdown",
   "id": "dc60ad4f",
   "metadata": {},
   "source": [
    "### 1.3.1 Addition and Subtraction"
   ]
  },
  {
   "cell_type": "code",
   "execution_count": 4,
   "id": "a845e61f",
   "metadata": {},
   "outputs": [],
   "source": [
    "# commutative\n",
    "\n",
    "# associative\n"
   ]
  },
  {
   "cell_type": "markdown",
   "id": "4dc7fbd3",
   "metadata": {},
   "source": [
    "### 1.3.2 Multiplication of Matrix by a Scalar"
   ]
  },
  {
   "cell_type": "code",
   "execution_count": null,
   "id": "8fac472f",
   "metadata": {},
   "outputs": [],
   "source": []
  },
  {
   "cell_type": "markdown",
   "id": "19f3bae7",
   "metadata": {},
   "source": [
    "### 1.3.3 Matrix Multiplications"
   ]
  },
  {
   "cell_type": "code",
   "execution_count": null,
   "id": "8b7fe7bf",
   "metadata": {},
   "outputs": [],
   "source": [
    "# dimentional rule in multiplication\n",
    "\n",
    "# associative\n",
    "\n",
    "# distributive\n",
    "\n",
    "# not generally commutative\n"
   ]
  },
  {
   "cell_type": "markdown",
   "id": "2b92b3f2",
   "metadata": {},
   "source": [
    "### 1.3.4 Matrix Inverse"
   ]
  },
  {
   "cell_type": "code",
   "execution_count": 6,
   "id": "8c9b4433",
   "metadata": {},
   "outputs": [],
   "source": [
    "# A * A-1 = I\n"
   ]
  },
  {
   "cell_type": "markdown",
   "id": "80f79927",
   "metadata": {},
   "source": [
    "### 1.3.5 Matrix Augmentation"
   ]
  },
  {
   "cell_type": "code",
   "execution_count": 7,
   "id": "c5900f68",
   "metadata": {},
   "outputs": [],
   "source": [
    "# [A | b]\n"
   ]
  },
  {
   "cell_type": "markdown",
   "id": "45378153",
   "metadata": {},
   "source": [
    "### Truss"
   ]
  },
  {
   "cell_type": "code",
   "execution_count": null,
   "id": "3e738e18",
   "metadata": {},
   "outputs": [],
   "source": [
    "# develop Truss() in python"
   ]
  },
  {
   "cell_type": "markdown",
   "id": "b06ca33f",
   "metadata": {},
   "source": [
    "## 2. Gauss Elimination\n",
    "### 2.1.1 Cramer's Rule"
   ]
  },
  {
   "cell_type": "code",
   "execution_count": 8,
   "id": "c61b4a30",
   "metadata": {},
   "outputs": [],
   "source": [
    "# find x(i), x(i) = D(i)/D\n"
   ]
  },
  {
   "cell_type": "markdown",
   "id": "3ca241c1",
   "metadata": {},
   "source": [
    "### 2.1.2 Elimination Method"
   ]
  },
  {
   "cell_type": "code",
   "execution_count": 10,
   "id": "2fafe317",
   "metadata": {},
   "outputs": [],
   "source": [
    "# Ax = b\n",
    "# x = inv(A)*b\n"
   ]
  },
  {
   "cell_type": "markdown",
   "id": "17123474",
   "metadata": {},
   "source": [
    "## 2.2 Gauss Elimination"
   ]
  },
  {
   "cell_type": "code",
   "execution_count": 12,
   "id": "e9805156",
   "metadata": {},
   "outputs": [],
   "source": [
    "# develop GaussNavie() in python"
   ]
  },
  {
   "cell_type": "markdown",
   "id": "94d45b86",
   "metadata": {},
   "source": [
    "### 2.3.1 Determinant"
   ]
  },
  {
   "cell_type": "code",
   "execution_count": null,
   "id": "bb4af680",
   "metadata": {},
   "outputs": [],
   "source": [
    "# calaculate determinant using Gauss elimination"
   ]
  },
  {
   "cell_type": "markdown",
   "id": "253db375",
   "metadata": {},
   "source": [
    "### 2.3.2 Gauss Elimination with Partial Pivoting"
   ]
  },
  {
   "cell_type": "code",
   "execution_count": null,
   "id": "c0daf734",
   "metadata": {},
   "outputs": [],
   "source": [
    "# develop GaussPivot() in python"
   ]
  },
  {
   "cell_type": "code",
   "execution_count": 13,
   "id": "50033b6f",
   "metadata": {},
   "outputs": [],
   "source": [
    "# Example: TRUSS"
   ]
  },
  {
   "cell_type": "markdown",
   "id": "b2faa7a0",
   "metadata": {},
   "source": [
    "### 2.4.2 Tridiagonal Matrix"
   ]
  },
  {
   "cell_type": "code",
   "execution_count": 14,
   "id": "ca02fda7",
   "metadata": {},
   "outputs": [],
   "source": [
    "# develop Tridiag() in python"
   ]
  },
  {
   "cell_type": "markdown",
   "id": "ee0139cb",
   "metadata": {},
   "source": [
    "## 3. LU Decomposition Methods\n",
    "### 3.4.5 Forward and Back Substitutions"
   ]
  },
  {
   "cell_type": "code",
   "execution_count": 15,
   "id": "2b4592c3",
   "metadata": {},
   "outputs": [],
   "source": [
    "# develop LU_Solve() in python"
   ]
  },
  {
   "cell_type": "markdown",
   "id": "1181540e",
   "metadata": {},
   "source": [
    "#### without pivoting"
   ]
  },
  {
   "cell_type": "code",
   "execution_count": 17,
   "id": "9e02a2d9",
   "metadata": {},
   "outputs": [],
   "source": [
    "# develop LU_factor() in python"
   ]
  },
  {
   "cell_type": "markdown",
   "id": "a46f0ee6",
   "metadata": {},
   "source": [
    "#### with pivoting"
   ]
  },
  {
   "cell_type": "code",
   "execution_count": null,
   "id": "cff733f3",
   "metadata": {},
   "outputs": [],
   "source": [
    "# develop LU_pivot() in python"
   ]
  },
  {
   "cell_type": "code",
   "execution_count": 19,
   "id": "a02ec51a",
   "metadata": {},
   "outputs": [],
   "source": [
    "# Permutation Matrix"
   ]
  },
  {
   "cell_type": "markdown",
   "id": "633c18ef",
   "metadata": {},
   "source": [
    "## 3.6 Mathlab methods"
   ]
  },
  {
   "cell_type": "code",
   "execution_count": 22,
   "id": "9def74de",
   "metadata": {},
   "outputs": [],
   "source": [
    "# chol\n",
    "# lu"
   ]
  },
  {
   "cell_type": "markdown",
   "id": "c6b16e69",
   "metadata": {},
   "source": [
    "## 3.7 Cholesky LU Factorization"
   ]
  },
  {
   "cell_type": "code",
   "execution_count": 20,
   "id": "9f8ca338",
   "metadata": {},
   "outputs": [],
   "source": [
    "# develop Cholesky() in python"
   ]
  },
  {
   "cell_type": "markdown",
   "id": "7101fa81",
   "metadata": {},
   "source": [
    "---\n",
    "# Lecture 6: Iterative Methods, Nonlinear Systems and Eigenvalue problems"
   ]
  },
  {
   "cell_type": "markdown",
   "id": "d51eec22",
   "metadata": {},
   "source": [
    "## 1.1 Matrix Inverse using LU decomposition"
   ]
  },
  {
   "cell_type": "code",
   "execution_count": 1,
   "id": "2a023cb4",
   "metadata": {},
   "outputs": [],
   "source": [
    "# [A] = [L][U]\n",
    "# [L][Y] = [I]\n",
    "# [U][X] = [Y]\n",
    "\n",
    "# develop LU_Solve_Gen() in python"
   ]
  },
  {
   "cell_type": "markdown",
   "id": "744b946e",
   "metadata": {},
   "source": [
    "### 1.2.3 Matrix Condition"
   ]
  },
  {
   "cell_type": "code",
   "execution_count": 2,
   "id": "69ad7d86",
   "metadata": {},
   "outputs": [],
   "source": [
    "# norm()\n",
    "# cond()"
   ]
  },
  {
   "cell_type": "markdown",
   "id": "89730a7f",
   "metadata": {},
   "source": [
    "### 2.4 Power Method"
   ]
  },
  {
   "cell_type": "code",
   "execution_count": 3,
   "id": "ddfb0265",
   "metadata": {},
   "outputs": [],
   "source": [
    "# develop power_eig() in python"
   ]
  },
  {
   "cell_type": "code",
   "execution_count": 5,
   "id": "4c496bd5",
   "metadata": {},
   "outputs": [],
   "source": [
    "# eig()"
   ]
  },
  {
   "cell_type": "code",
   "execution_count": 6,
   "id": "fa980a1b",
   "metadata": {},
   "outputs": [],
   "source": [
    "# develop InvPower() in python"
   ]
  },
  {
   "cell_type": "markdown",
   "id": "d4b9a7e6",
   "metadata": {},
   "source": [
    "### 3.2 Jacobi Method"
   ]
  },
  {
   "cell_type": "code",
   "execution_count": null,
   "id": "af289de7",
   "metadata": {},
   "outputs": [],
   "source": [
    "# I suspect this is a built in function.\n",
    "# develop Jacobi() in python"
   ]
  },
  {
   "cell_type": "markdown",
   "id": "cfbc9b76",
   "metadata": {},
   "source": [
    "### 3.3 Gauss-Seidel Method"
   ]
  },
  {
   "cell_type": "code",
   "execution_count": 8,
   "id": "3505c296",
   "metadata": {},
   "outputs": [],
   "source": [
    "# develop GaussSeidel() in python"
   ]
  },
  {
   "cell_type": "markdown",
   "id": "f746bfaa",
   "metadata": {},
   "source": [
    "### 3.4 Successive Over Relaxation (SOR)"
   ]
  },
  {
   "cell_type": "code",
   "execution_count": 9,
   "id": "19c40c40",
   "metadata": {},
   "outputs": [],
   "source": [
    "# develop SOR() in python"
   ]
  },
  {
   "cell_type": "markdown",
   "id": "2d658f5d",
   "metadata": {},
   "source": [
    "### 4.1 Newton-Raphson Method"
   ]
  },
  {
   "cell_type": "code",
   "execution_count": 11,
   "id": "059326d2",
   "metadata": {},
   "outputs": [],
   "source": [
    "# develop Newton_sys() in python"
   ]
  },
  {
   "cell_type": "markdown",
   "id": "b8ae9c25",
   "metadata": {},
   "source": [
    "### 4.2 Fixed Point Method"
   ]
  },
  {
   "cell_type": "code",
   "execution_count": null,
   "id": "11e6ef4d",
   "metadata": {},
   "outputs": [],
   "source": [
    "# develop fixed_pt_sys() in python"
   ]
  },
  {
   "cell_type": "markdown",
   "id": "50c8a169",
   "metadata": {},
   "source": [
    "---\n",
    "# Lecture 7: Numerical Integration and Differentiation\n",
    "## 1.1 Numerical Integration\n",
    "### 1.1.1 Newton-Cotes Open Formula\n",
    "### 1.1.2 Composite Trapezoidal Rule"
   ]
  },
  {
   "cell_type": "code",
   "execution_count": 1,
   "id": "93f02737",
   "metadata": {},
   "outputs": [],
   "source": [
    "# develop Trap() in python"
   ]
  },
  {
   "cell_type": "code",
   "execution_count": null,
   "id": "769cc99e",
   "metadata": {},
   "outputs": [],
   "source": [
    "# MATLAB function Quad()"
   ]
  },
  {
   "cell_type": "markdown",
   "id": "a8da50d4",
   "metadata": {},
   "source": [
    "### 1.1.3 Simpson's 1/3 Rule"
   ]
  },
  {
   "cell_type": "code",
   "execution_count": null,
   "id": "372a204f",
   "metadata": {},
   "outputs": [],
   "source": [
    "# develop Simp() in python"
   ]
  },
  {
   "cell_type": "markdown",
   "id": "9df4b305",
   "metadata": {},
   "source": [
    "### 1.1.4 Simpson's 3/8 Rule"
   ]
  },
  {
   "cell_type": "code",
   "execution_count": null,
   "id": "621cac98",
   "metadata": {},
   "outputs": [],
   "source": []
  },
  {
   "cell_type": "markdown",
   "id": "05fe3bb9",
   "metadata": {},
   "source": [
    "### 1.1.5 Composite Trapezoidal Rule with unequal Segments"
   ]
  },
  {
   "cell_type": "code",
   "execution_count": null,
   "id": "6d0325ef",
   "metadata": {},
   "outputs": [],
   "source": [
    "# develop trapuneq() in python"
   ]
  },
  {
   "cell_type": "code",
   "execution_count": null,
   "id": "ed5be6eb",
   "metadata": {},
   "outputs": [],
   "source": [
    "# MATLAB function trapz(), cumtrapz()"
   ]
  },
  {
   "cell_type": "markdown",
   "id": "7ab5f148",
   "metadata": {},
   "source": [
    "### 1.1.7 Netwon-Cotes Open Integration Formula"
   ]
  },
  {
   "cell_type": "code",
   "execution_count": null,
   "id": "4c84e631",
   "metadata": {},
   "outputs": [],
   "source": []
  },
  {
   "cell_type": "markdown",
   "id": "4ae0dbbb",
   "metadata": {},
   "source": [
    "## 1.2 Double Integral"
   ]
  },
  {
   "cell_type": "code",
   "execution_count": 2,
   "id": "d5748750",
   "metadata": {},
   "outputs": [],
   "source": [
    "# MATLAB function dblquad(), triplequad()"
   ]
  },
  {
   "cell_type": "markdown",
   "id": "c0993ef5",
   "metadata": {},
   "source": [
    "### 1.2.1 Richardson Extrapolation\n",
    "### 1.2.1.2 Romberg Integration"
   ]
  },
  {
   "cell_type": "code",
   "execution_count": 3,
   "id": "e8f0d6a7",
   "metadata": {},
   "outputs": [],
   "source": [
    "# develop romberg() in python"
   ]
  },
  {
   "cell_type": "markdown",
   "id": "ece729c9",
   "metadata": {},
   "source": [
    "### 1.2.2 Gauss Quadrature"
   ]
  },
  {
   "cell_type": "code",
   "execution_count": 5,
   "id": "27abfb2e",
   "metadata": {},
   "outputs": [],
   "source": [
    "# develop Gauss_quad() in python"
   ]
  },
  {
   "cell_type": "markdown",
   "id": "0be7a5bc",
   "metadata": {},
   "source": [
    "### 1.2.3 Adaptive Quadrature"
   ]
  },
  {
   "cell_type": "code",
   "execution_count": 6,
   "id": "5f7ec274",
   "metadata": {},
   "outputs": [],
   "source": [
    "# develop quadadapt() in python"
   ]
  },
  {
   "cell_type": "code",
   "execution_count": 7,
   "id": "455c1206",
   "metadata": {},
   "outputs": [],
   "source": [
    "# MATLAB function trapz(), quad(), quadl()"
   ]
  },
  {
   "cell_type": "markdown",
   "id": "c776638e",
   "metadata": {},
   "source": [
    "## 2. Numerical Differentiation\n",
    "## 2.1 First Derivatives"
   ]
  },
  {
   "cell_type": "code",
   "execution_count": 9,
   "id": "9f686b48",
   "metadata": {},
   "outputs": [],
   "source": [
    "# Forward Difference\n",
    "\n",
    "# Backward Difference\n",
    "\n",
    "# Central Difference"
   ]
  },
  {
   "cell_type": "markdown",
   "id": "23dfb2a4",
   "metadata": {},
   "source": [
    "## 2.2 Second Derivatives"
   ]
  },
  {
   "cell_type": "code",
   "execution_count": 10,
   "id": "af59a453",
   "metadata": {},
   "outputs": [],
   "source": [
    "# Centered Finite Difference\n",
    "\n",
    "# Forward Finite Difference\n",
    "\n",
    "# Backward Finite Difference"
   ]
  },
  {
   "cell_type": "markdown",
   "id": "03172358",
   "metadata": {},
   "source": [
    "## 2.3 First Derivatives using Parabolic Curve"
   ]
  },
  {
   "cell_type": "code",
   "execution_count": 11,
   "id": "106d5635",
   "metadata": {},
   "outputs": [],
   "source": [
    "# 3-point Forward difference\n",
    "\n",
    "# 3-point Backward difference"
   ]
  },
  {
   "cell_type": "markdown",
   "id": "a4853d2c",
   "metadata": {},
   "source": [
    "## 2.4 Higher Derivatives"
   ]
  },
  {
   "cell_type": "code",
   "execution_count": 13,
   "id": "5446f461",
   "metadata": {},
   "outputs": [],
   "source": [
    "# second order accuate O(h^2) on Central Finite Difference"
   ]
  },
  {
   "cell_type": "markdown",
   "id": "d660e98b",
   "metadata": {},
   "source": [
    "## 2.5 Using Richardson Extrapolation for Central Difference Scheme"
   ]
  },
  {
   "cell_type": "code",
   "execution_count": null,
   "id": "93383e66",
   "metadata": {},
   "outputs": [],
   "source": []
  },
  {
   "cell_type": "markdown",
   "id": "a7c17692",
   "metadata": {},
   "source": [
    "## 2.6 General Unevenly Three Point Formula\n",
    "### 2.6.1 Lagrange Interpolation"
   ]
  },
  {
   "cell_type": "code",
   "execution_count": 14,
   "id": "6c180b64",
   "metadata": {},
   "outputs": [],
   "source": [
    "# 1st-order Lagrange polynomial\n",
    "\n",
    "# 2nd-order Lagrange polynomial\n",
    "\n",
    "# 3rd-order Lagrange polynomial"
   ]
  },
  {
   "cell_type": "markdown",
   "id": "9e462e4c",
   "metadata": {},
   "source": [
    "### 2.6.2 General Three-point Formula"
   ]
  },
  {
   "cell_type": "code",
   "execution_count": 16,
   "id": "4246cb45",
   "metadata": {},
   "outputs": [],
   "source": [
    "# Lagrange interpolation polynomial for unrqually spaced data"
   ]
  },
  {
   "cell_type": "markdown",
   "id": "fb0fef82",
   "metadata": {},
   "source": [
    "### 2.6.3 First and Second Derivative"
   ]
  },
  {
   "cell_type": "code",
   "execution_count": 17,
   "id": "b22827eb",
   "metadata": {},
   "outputs": [],
   "source": [
    "# First Derivative for unequally spaced data\n",
    "\n",
    "# Second Derivative for unequally spaced data"
   ]
  },
  {
   "cell_type": "code",
   "execution_count": 18,
   "id": "d0d6fc93",
   "metadata": {},
   "outputs": [],
   "source": [
    "# MATLAB function polyfit(), polyder(), diff()"
   ]
  },
  {
   "cell_type": "markdown",
   "id": "0dbd8500",
   "metadata": {},
   "source": [
    "---\n",
    "# Lecture 8: Ordinary Differentiation Equations"
   ]
  },
  {
   "cell_type": "code",
   "execution_count": null,
   "id": "b397261c",
   "metadata": {},
   "outputs": [],
   "source": []
  }
 ],
 "metadata": {
  "kernelspec": {
   "display_name": "Python 3 (ipykernel)",
   "language": "python",
   "name": "python3"
  },
  "language_info": {
   "codemirror_mode": {
    "name": "ipython",
    "version": 3
   },
   "file_extension": ".py",
   "mimetype": "text/x-python",
   "name": "python",
   "nbconvert_exporter": "python",
   "pygments_lexer": "ipython3",
   "version": "3.9.12"
  }
 },
 "nbformat": 4,
 "nbformat_minor": 5
}
