{
 "cells": [
  {
   "cell_type": "markdown",
   "id": "a171aac1",
   "metadata": {},
   "source": [
    "# The 'anm' Usage Examples"
   ]
  },
  {
   "cell_type": "markdown",
   "id": "d65be373",
   "metadata": {},
   "source": [
    "<table align=\"center\" style =\"font-size:2em;\">\n",
    "    <tr>\n",
    "        <th style=\"text-align: center\">code1</th>\n",
    "        <th style=\"text-align: center\">code2</th>\n",
    "        <th style=\"text-align: center\">code3</th>\n",
    "        <th style=\"text-align: center\">code4</th>\n",
    "        <th style=\"text-align: center\">code5</th>\n",
    "        <th style=\"text-align: center\">code6</th>\n",
    "        <th style=\"text-align: center\">code7</th>\n",
    "    </tr>\n",
    "    <tr>\n",
    "        <td style=\"text-align: center\"><a href=\"#bisect\">bisect</a></td>\n",
    "    </tr>\n",
    "    <tr>\n",
    "        <td style=\"text-align: center\"><a href=\"#bisect2\">bisect2</a></td>\n",
    "    </tr>\n",
    "    <tr>\n",
    "        <td style=\"text-align: center\"><a href=\"#false_position\">false_position</a></td>\n",
    "    </tr>\n",
    "    <tr>\n",
    "        <td style=\"text-align: center\"><a href=\"#multiple1\">multiple1</a></td>\n",
    "    </tr>\n",
    "    <tr>\n",
    "        <td style=\"text-align: center\"><a href=\"#multiple2\">multiple2</a></td>\n",
    "    </tr>\n",
    "    <tr>\n",
    "        <td style=\"text-align: center\"><a href=\"#newtraph\">newtraph</a></td>\n",
    "    </tr>\n",
    "</table>"
   ]
  },
  {
   "cell_type": "code",
   "execution_count": 1,
   "id": "428a45e1",
   "metadata": {},
   "outputs": [],
   "source": [
    "# import the essential python packages\n",
    "import anm\n",
    "import numpy as np\n",
    "import matplotlib.pyplot as plt"
   ]
  },
  {
   "cell_type": "markdown",
   "id": "03b77e22",
   "metadata": {},
   "source": [
    "---\n",
    "## bisect"
   ]
  },
  {
   "cell_type": "code",
   "execution_count": 2,
   "id": "68503bc3",
   "metadata": {},
   "outputs": [
    {
     "name": "stdout",
     "output_type": "stream",
     "text": [
      "xr: 0.47283387184143066\n",
      "f(xr): -1.654603528633558e-07\n",
      "ea: 5.0423329059115807e-05\n",
      "iter: 22\n"
     ]
    }
   ],
   "source": [
    "f_x = lambda x: 1*x**3 + 4*x**2 - 1\n",
    "root, fx, ea, iter = anm.bisect(func = f_x, xl = 0, xu = 1, es = 1e-4, maxit = 50)\n",
    "print('xr: {}\\nf(xr): {}\\nea: {}\\niter: {}'.format(root, fx, ea, iter))"
   ]
  },
  {
   "cell_type": "markdown",
   "id": "0ef85df2",
   "metadata": {},
   "source": [
    "## bisect2"
   ]
  },
  {
   "cell_type": "code",
   "execution_count": 3,
   "id": "bb2a37d8",
   "metadata": {},
   "outputs": [
    {
     "name": "stdout",
     "output_type": "stream",
     "text": [
      "enter lower bound xl = 0\n",
      "enter upper bound xu = 1\n",
      "allowable tolerance es = 1e-4\n",
      "maximum number of iteration maxit = 50\n",
      "\n",
      "Bisection method has converged\n",
      "\n",
      "step\t\t\txl\t\t\txu\t\t\txr\t\t\tf(xr)\n",
      "1                       0.0                     1.0                     0.5                     0.125                   \n",
      "2                       0.0                     0.5                     0.25                    -0.734375               \n",
      "3                       0.25                    0.5                     0.375                   -0.384765625            \n",
      "4                       0.375                   0.5                     0.4375                  -0.150634765625         \n",
      "5                       0.4375                  0.5                     0.46875                 -0.018096923828125      \n",
      "6                       0.46875                 0.5                     0.484375                0.052120208740234375    \n",
      "7                       0.46875                 0.484375                0.4765625               0.016680240631103516    \n",
      "8                       0.46875                 0.4765625               0.47265625              -0.000791013240814209   \n",
      "9                       0.47265625              0.4765625               0.474609375             0.007923923432826996    \n",
      "10                      0.47265625              0.474609375             0.4736328125            0.003561285324394703    \n",
      "11                      0.47265625              0.4736328125            0.47314453125           0.0013838439481332898   \n",
      "12                      0.47265625              0.47314453125           0.472900390625          0.0002960923739010468   \n",
      "13                      0.47265625              0.472900390625          0.4727783203125         -0.0002475411729392363  \n",
      "14                      0.4727783203125         0.472900390625          0.47283935546875        2.4255414928120445e-05  \n",
      "\n",
      "xr: 0.47283935546875\n",
      "f(xr): 2.4255414928120445e-05\n"
     ]
    }
   ],
   "source": [
    "f_x = lambda x: 1*x**3 + 4*x**2 - 1\n",
    "xr, f_xr = anm.bisect2(func = f_x)\n",
    "print('\\nxr: {}\\nf(xr): {}'.format(xr, f_xr))"
   ]
  },
  {
   "cell_type": "markdown",
   "id": "100cfc98",
   "metadata": {},
   "source": [
    "## false_position"
   ]
  },
  {
   "cell_type": "code",
   "execution_count": 5,
   "id": "bfdcd8dd",
   "metadata": {},
   "outputs": [
    {
     "name": "stdout",
     "output_type": "stream",
     "text": [
      "enter lower bound xl = 0\n",
      "enter upper bound xu = 1\n",
      "allowable tolerance es = 1e-4\n",
      "maximum number of iteration maxit = 50\n",
      "\n",
      "False position method has converged\n",
      "\n",
      "step\t\t\txl\t\t\txu\t\t\txr\t\t\tf(xr)\n",
      "1                       0.0                     1.0                     0.19999999999999996     -0.8320000000000001     \n",
      "2                       0.19999999999999996     1.0                     0.3377483443708609      -0.5051759377348096     \n",
      "3                       0.3377483443708609      1.0                     0.4120081747909561      -0.2510583646739528     \n",
      "4                       0.4120081747909561      1.0                     0.4467337074501525      -0.11256088338190762    \n",
      "5                       0.4467337074501525      1.0                     0.46187661825458337     -0.04814781422136949    \n",
      "6                       0.46187661825458337     1.0                     0.4682769439841509      -0.02018150308871225    \n",
      "7                       0.4682769439841509      1.0                     0.4709462191124203      -0.008387312145726744   \n",
      "8                       0.4709462191124203      1.0                     0.4720532326958471      -0.003473351814168746   \n",
      "9                       0.4720532326958471      1.0                     0.47251127117914793     -0.0014362670460141835  \n",
      "10                      0.47251127117914793     1.0                     0.4727006068645838      -0.0005935496927956807  \n",
      "11                      0.4727006068645838      1.0                     0.4727788398539938      -0.00024522776512281297 \n",
      "\n",
      "xr: 0.4727788398539938\n",
      "f(xr): -0.00024522776512281297\n"
     ]
    }
   ],
   "source": [
    "f_x = lambda x: 1*x**3 + 4*x**2 - 1\n",
    "xr, f_xr = anm.false_position(func = f_x)\n",
    "print('\\nxr: {}\\nf(xr): {}'.format(xr, f_xr))"
   ]
  },
  {
   "cell_type": "markdown",
   "id": "1d93b4af",
   "metadata": {},
   "source": [
    "## multiple1"
   ]
  },
  {
   "cell_type": "code",
   "execution_count": 6,
   "id": "78350f2f",
   "metadata": {},
   "outputs": [
    {
     "name": "stdout",
     "output_type": "stream",
     "text": [
      "Enter the multiplicity of the root = 1\n",
      "Enter the initial guess for x = 10\n",
      "Enter the allowable tolerance = 1e-4\n",
      "Enter the maximum number of iterations = 50\n",
      "\n",
      "Newton's method has converged.\n",
      "\n",
      "Step\t\t\tx\t\t\tf\t\t\tdf/dx\n",
      "1                       10.0                    1399.0                  380.0                   \n",
      "2                       6.318421052631579       410.93659281600816      170.31470221606648      \n",
      "3                       3.9056135411891355      119.59078328241583      77.00635972887291       \n",
      "4                       2.352614753771111       34.16042787003365       35.4253065691534        \n",
      "5                       1.3883202654976103      9.38562715421819        16.88886160275495       \n",
      "6                       0.8325914440424577      2.349993527376163       8.740357090417776       \n",
      "7                       0.56372445118784        0.45028434699107955     5.463151380103814       \n",
      "8                       0.48130236260523823     0.038102494692909605    4.545374793590058       \n",
      "9                       0.4729196666949599      0.0003819520743906235   4.4543163670002945      \n",
      "10                      0.4728339179418582      3.9842684262936245e-08  4.45338708540361        \n",
      "\n",
      "xr: 0.4728339179418582\n",
      "f(xr): 3.9842684262936245e-08\n"
     ]
    }
   ],
   "source": [
    "f_x = lambda x: 1*x**3 + 4*x**2 - 1\n",
    "df_x = lambda x: x*(3*x + 8)\n",
    "xr, f_xr = anm.multiple1(f_x, df_x)\n",
    "print('\\nxr: {}\\nf(xr): {}'.format(xr, f_xr))"
   ]
  },
  {
   "cell_type": "markdown",
   "id": "56e48cfe",
   "metadata": {},
   "source": [
    "## multiple2"
   ]
  },
  {
   "cell_type": "code",
   "execution_count": 7,
   "id": "293ca8b9",
   "metadata": {},
   "outputs": [
    {
     "name": "stdout",
     "output_type": "stream",
     "text": [
      "Enter initial guess: xguess = 1\n",
      "Allowable tolerance es = 1e-4\n",
      "Maximum number of iterations: maxit = 50\n",
      "\n",
      "Newton method has converged\n",
      "\n",
      "Step\t\t\tx\t\t\tf\t\t\tdf/dx\t\t\td2f/dx2\n",
      "1                       1.0                     4.0                     11.0                    14.0                    \n",
      "2                       0.32307692307692304     -0.548762858443332      2.8977514792899406      9.938461538461539       \n",
      "3                       0.4378844314031371      -0.1490677228163223     4.078303777020842       10.627306588418822      \n",
      "4                       0.4712572039325127      -0.007008211341639647   4.436307688234971       10.827543223595075      \n",
      "5                       0.4728308761485578      -1.350639018160571e-05  4.453354121506701       10.836985256891346      \n",
      "6                       0.47283390898406397     -4.9840465088379915e-11 4.453386988327962       10.837003453904384      \n",
      "\n",
      "xr: 0.47283390898406397\n",
      "f(xr): -4.9840465088379915e-11\n"
     ]
    }
   ],
   "source": [
    "f_x = lambda x: 1*x**3 + 4*x**2 - 1\n",
    "df_x = lambda x: x*(3*x + 8)\n",
    "ddf_x = lambda x: 6*x + 8\n",
    "xr, f_xr = anm.multiple2(f_x, df_x, ddf_x)\n",
    "print('\\nxr: {}\\nf(xr): {}'.format(xr, f_xr))"
   ]
  },
  {
   "cell_type": "markdown",
   "id": "25353afe",
   "metadata": {},
   "source": [
    "## newtraph"
   ]
  },
  {
   "cell_type": "code",
   "execution_count": 8,
   "id": "ae78abea",
   "metadata": {},
   "outputs": [
    {
     "name": "stdout",
     "output_type": "stream",
     "text": [
      "root: 0.4728339089952555\n",
      "ea: 1.425450195876832e-07\n",
      "iter: 7\n"
     ]
    }
   ],
   "source": [
    "f_x = lambda x: 1*x**3 + 4*x**2 - 1\n",
    "df_x = lambda x: x*(3*x + 8)\n",
    "root, ea, iter = anm.newtraph(func = f_x, dfunc = df_x, xr = 0.1, es = 1e-4, maxit = 50)\n",
    "print('root: {}\\nea: {}\\niter: {}'.format(root, ea, iter))"
   ]
  },
  {
   "cell_type": "markdown",
   "id": "3f505ab6",
   "metadata": {},
   "source": [
    "---\n",
    "## Cubic_LS"
   ]
  },
  {
   "cell_type": "code",
   "execution_count": 4,
   "id": "23990cc5",
   "metadata": {},
   "outputs": [
    {
     "data": {
      "image/png": "[encoded data removed]",
      "text/plain": [
       "<Figure size 432x288 with 1 Axes>"
      ]
     },
     "metadata": {
      "needs_background": "light"
     },
     "output_type": "display_data"
    },
    {
     "ename": "TypeError",
     "evalue": "cannot unpack non-iterable NoneType object",
     "output_type": "error",
     "traceback": [
      "\u001b[1;31m---------------------------------------------------------------------------\u001b[0m",
      "\u001b[1;31mTypeError\u001b[0m                                 Traceback (most recent call last)",
      "Input \u001b[1;32mIn [4]\u001b[0m, in \u001b[0;36m<cell line: 4>\u001b[1;34m()\u001b[0m\n\u001b[0;32m      2\u001b[0m a \u001b[38;5;241m=\u001b[39m np\u001b[38;5;241m.\u001b[39marray(\u001b[38;5;28mrange\u001b[39m(\u001b[38;5;241m10\u001b[39m))\u001b[38;5;241m.\u001b[39mastype(np\u001b[38;5;241m.\u001b[39mfloat64)\n\u001b[0;32m      3\u001b[0m b \u001b[38;5;241m=\u001b[39m \u001b[38;5;241m1\u001b[39m\u001b[38;5;241m+\u001b[39m\u001b[38;5;241m5\u001b[39m\u001b[38;5;241m*\u001b[39ma\u001b[38;5;241m*\u001b[39m\u001b[38;5;241m*\u001b[39m\u001b[38;5;241m3\u001b[39m\n\u001b[1;32m----> 4\u001b[0m z, Syx, r \u001b[38;5;241m=\u001b[39m anm\u001b[38;5;241m.\u001b[39mCubic_LS(a,b)\n\u001b[0;32m      5\u001b[0m \u001b[38;5;28mprint\u001b[39m(\u001b[38;5;124m'\u001b[39m\u001b[38;5;124mcoef_: \u001b[39m\u001b[38;5;132;01m{}\u001b[39;00m\u001b[38;5;130;01m\\n\u001b[39;00m\u001b[38;5;124mStandard Error: \u001b[39m\u001b[38;5;132;01m{}\u001b[39;00m\u001b[38;5;130;01m\\n\u001b[39;00m\u001b[38;5;124mcorr: \u001b[39m\u001b[38;5;132;01m{}\u001b[39;00m\u001b[38;5;124m'\u001b[39m\u001b[38;5;241m.\u001b[39mformat(z, Syx, r))\n",
      "\u001b[1;31mTypeError\u001b[0m: cannot unpack non-iterable NoneType object"
     ]
    }
   ],
   "source": [
    "a = np.array(range(10)).astype(np.float64)\n",
    "b = 1+5*a**3\n",
    "z, Syx, r = anm.Cubic_LS(a,b)\n",
    "print('coef_: {}\\nStandard Error: {}\\ncorr: {}'.format(z, Syx, r))"
   ]
  },
  {
   "cell_type": "code",
   "execution_count": 9,
   "id": "63dfe552",
   "metadata": {},
   "outputs": [
    {
     "name": "stdout",
     "output_type": "stream",
     "text": [
      "coef_: [-2.75573192e-06  1.48809524e-04 -4.06746032e-03  3.14814815e-02\n",
      " -1.11458333e-01  2.17361111e-01 -2.50231481e-01  1.70238095e-01\n",
      " -6.35168651e-02  1.00473986e-02]\n"
     ]
    }
   ],
   "source": [
    "# Lagrange coefficient\n",
    "a = np.array(range(10))\n",
    "b = 1+5*a**3\n",
    "c = anm.Lagrange_coef(a,b)\n",
    "print('coef_: {}'.format(c))"
   ]
  },
  {
   "cell_type": "code",
   "execution_count": 10,
   "id": "3847052f",
   "metadata": {},
   "outputs": [
    {
     "name": "stdout",
     "output_type": "stream",
     "text": [
      "f(t): [5.9361875]\n"
     ]
    }
   ],
   "source": [
    "# Lagrange Evaluation\n",
    "x = np.array([0, 1, 4, 3])\n",
    "y = np.exp(x)\n",
    "c = anm.Lagrange_coef(x,y)\n",
    "t = [2]\n",
    "p = anm.Lagrange_Eval(t,x,c)\n",
    "print('f(t): {}'.format(p))"
   ]
  },
  {
   "cell_type": "code",
   "execution_count": 11,
   "id": "f6800151",
   "metadata": {},
   "outputs": [
    {
     "name": "stdout",
     "output_type": "stream",
     "text": [
      "\tx\ty\t(a0+a1*x)\t(y-a0-a1*x)\n",
      "\t1\t0\t1\t-59.0\t60.0\n",
      "\n",
      "\t2\t1\t6\t-14.0\t20.0\n",
      "\n",
      "\t3\t2\t21\t31.0\t-10.0\n",
      "\n",
      "\t4\t3\t46\t76.0\t-30.0\n",
      "\n",
      "\t5\t4\t81\t121.0\t-40.0\n",
      "\n",
      "\t6\t5\t126\t166.0\t-40.0\n",
      "\n",
      "\t7\t6\t181\t211.0\t-30.0\n",
      "\n",
      "\t8\t7\t246\t256.0\t-10.0\n",
      "\n",
      "\t9\t8\t321\t301.0\t20.0\n",
      "\n",
      "\t10\t9\t406\t346.0\t60.0\n",
      "\n"
     ]
    },
    {
     "data": {
      "image/png": "[encoded data removed]",
      "text/plain": [
       "<Figure size 432x288 with 1 Axes>"
      ]
     },
     "metadata": {
      "needs_background": "light"
     },
     "output_type": "display_data"
    },
    {
     "name": "stdout",
     "output_type": "stream",
     "text": [
      "coef_: [45.0, -59.0]\n",
      "corr: 0.9626907371412557\n"
     ]
    }
   ],
   "source": [
    "# Linear Least Square\n",
    "x = np.array(range(10))\n",
    "y = 1+5*x**2\n",
    "[a1, a0], r = anm.Linear_LS(x,y)\n",
    "print('coef_: {}\\ncorr: {}'.format([a1, a0], r))"
   ]
  },
  {
   "cell_type": "code",
   "execution_count": 12,
   "id": "aa436a87",
   "metadata": {},
   "outputs": [
    {
     "name": "stdout",
     "output_type": "stream",
     "text": [
      "coef_: [45.0, -59.0]\n",
      "corr: 0.9267734553775746\n"
     ]
    },
    {
     "data": {
      "image/png": "[encoded data removed]",
      "text/plain": [
       "<Figure size 432x288 with 1 Axes>"
      ]
     },
     "metadata": {
      "needs_background": "light"
     },
     "output_type": "display_data"
    }
   ],
   "source": [
    "# Linear Regression\n",
    "x = np.array(range(10))\n",
    "y = 1+5*x**2\n",
    "[a0, a1], r2 = anm.linregr(x,y)\n",
    "print('coef_: {}\\ncorr: {}'.format([a0, a1], r2))"
   ]
  },
  {
   "cell_type": "code",
   "execution_count": 13,
   "id": "961fb562",
   "metadata": {},
   "outputs": [
    {
     "name": "stdout",
     "output_type": "stream",
     "text": [
      "A: [[ 1  0  0  0  0  0  0  0  0  0  0  0]\n",
      " [ 0  1  1  0  0  0  0  0  0  0  0  0]\n",
      " [ 0  0  0  1  0  0  0  0  0  0  0  0]\n",
      " [ 0  0  0  0  2  4  0  0  0  0  0  0]\n",
      " [ 0  0  0  0  0  0  1  0  0  0  0  0]\n",
      " [ 0  0  0  0  0  0  0  3  9  0  0  0]\n",
      " [ 0  0  0  0  0  0  0  0  0  1  0  0]\n",
      " [ 0  0  0  0  0  0  0  0  0  0  1  1]\n",
      " [ 0  1  2  0 -1  0  0  0  0  0  0  0]\n",
      " [ 0  0  0  0  1  4  0 -1  0  0  0  0]\n",
      " [ 0  0  0  0  0  0  0  1  6  0 -1  0]\n",
      " [ 0  0  1  0  0  0  0  0  0  0  0  0]]\n",
      "b: [-5, 9, 4, -6, -2, 21, 19, 39, 0, 0, 0, 0]\n"
     ]
    }
   ],
   "source": [
    "# Quadratic\n",
    "x = np.array([-1, 0, 2, 5, 6])\n",
    "f = np.array([-5, 4, -2, 19, 58])\n",
    "A, b = anm.quadratic(x, f)\n",
    "print('A: {}\\nb: {}'.format(A, b))"
   ]
  },
  {
   "cell_type": "code",
   "execution_count": 14,
   "id": "3f6638de",
   "metadata": {},
   "outputs": [
    {
     "name": "stdout",
     "output_type": "stream",
     "text": [
      "\tx\ty\t(a0+a1*x+a2*x**2)\t(y-a0-a1*x-a2*x**2)\n",
      "\t1\t0.0\t1.0\t1.0000000000000233\t-2.3314683517128287e-14\n",
      "\n",
      "\t2\t1.0\t6.0\t6.0000000000000195\t-1.9539925233402755e-14\n",
      "\n",
      "\t3\t2.0\t21.0\t21.000000000000018\t-1.7763568394002505e-14\n",
      "\n",
      "\t4\t3.0\t46.0\t46.000000000000014\t-1.4210854715202004e-14\n",
      "\n",
      "\t5\t4.0\t81.0\t81.00000000000001\t-1.4210854715202004e-14\n",
      "\n",
      "\t6\t5.0\t126.0\t126.0\t-1.4210854715202004e-14\n",
      "\n",
      "\t7\t6.0\t181.0\t181.0\t0.0\n",
      "\n",
      "\t8\t7.0\t246.0\t246.0\t0.0\n",
      "\n",
      "\t9\t8.0\t321.0\t321.0\t0.0\n",
      "\n",
      "\t10\t9.0\t406.0\t406.0\t5.684341886080802e-14\n",
      "\n"
     ]
    },
    {
     "data": {
      "image/png": "[encoded data removed]",
      "text/plain": [
       "<Figure size 432x288 with 1 Axes>"
      ]
     },
     "metadata": {
      "needs_background": "light"
     },
     "output_type": "display_data"
    },
    {
     "name": "stdout",
     "output_type": "stream",
     "text": [
      "coef_: [ 1.0000000e+00 -3.2728029e-15  5.0000000e+00]\n",
      "Syx: 2.6933640544107207e-14\n",
      "corr:1.0\n"
     ]
    }
   ],
   "source": [
    "# Quadratic Least Square\n",
    "x = np.array(range(10)).astype(np.float64)\n",
    "y = 1+5*x**2\n",
    "z, Syx, r = anm.Quadratic_LS(x,y)\n",
    "print('coef_: {}\\nSyx: {}\\ncorr:{}'.format(z, Syx, r))"
   ]
  }
 ],
 "metadata": {
  "kernelspec": {
   "display_name": "Python 3 (ipykernel)",
   "language": "python",
   "name": "python3"
  },
  "language_info": {
   "codemirror_mode": {
    "name": "ipython",
    "version": 3
   },
   "file_extension": ".py",
   "mimetype": "text/x-python",
   "name": "python",
   "nbconvert_exporter": "python",
   "pygments_lexer": "ipython3",
   "version": "3.9.12"
  }
 },
 "nbformat": 4,
 "nbformat_minor": 5
}
