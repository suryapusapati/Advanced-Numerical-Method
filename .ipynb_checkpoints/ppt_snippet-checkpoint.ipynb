{
 "cells": [
  {
   "cell_type": "code",
   "execution_count": 1,
   "id": "b219dd1e",
   "metadata": {},
   "outputs": [
    {
     "data": {
      "text/plain": [
       "array([[2, 5, 6],\n",
       "       [3, 4, 4],\n",
       "       [2, 3, 8]])"
      ]
     },
     "execution_count": 1,
     "metadata": {},
     "output_type": "execute_result"
    }
   ],
   "source": [
    "import numpy as np\n",
    "\n",
    "A = np.random.randint(10, size=[3,3])\n",
    "I = np.identity(3)\n",
    "A"
   ]
  },
  {
   "cell_type": "code",
   "execution_count": 2,
   "id": "428a45e1",
   "metadata": {},
   "outputs": [
    {
     "data": {
      "text/plain": [
       "-34.00000000000001"
      ]
     },
     "execution_count": 2,
     "metadata": {},
     "output_type": "execute_result"
    }
   ],
   "source": [
    "# determinent of A\n",
    "np.linalg.det(A)"
   ]
  },
  {
   "cell_type": "code",
   "execution_count": 3,
   "id": "68503bc3",
   "metadata": {},
   "outputs": [
    {
     "data": {
      "text/plain": [
       "array([[31, 48, 80],\n",
       "       [26, 43, 66],\n",
       "       [29, 46, 88]])"
      ]
     },
     "execution_count": 3,
     "metadata": {},
     "output_type": "execute_result"
    }
   ],
   "source": [
    "# matrix multiplication\n",
    "np.dot(A,A)"
   ]
  },
  {
   "cell_type": "code",
   "execution_count": 4,
   "id": "bfdcd8dd",
   "metadata": {},
   "outputs": [
    {
     "data": {
      "text/plain": [
       "array([[2., 5., 6.],\n",
       "       [3., 4., 4.],\n",
       "       [2., 3., 8.]])"
      ]
     },
     "execution_count": 4,
     "metadata": {},
     "output_type": "execute_result"
    }
   ],
   "source": [
    "np.dot(A,I)"
   ]
  },
  {
   "cell_type": "code",
   "execution_count": 5,
   "id": "ae78abea",
   "metadata": {},
   "outputs": [
    {
     "data": {
      "text/plain": [
       "array([[-0.58823529,  0.64705882,  0.11764706],\n",
       "       [ 0.47058824, -0.11764706, -0.29411765],\n",
       "       [-0.02941176, -0.11764706,  0.20588235]])"
      ]
     },
     "execution_count": 5,
     "metadata": {},
     "output_type": "execute_result"
    }
   ],
   "source": [
    "# inverse matrix of A\n",
    "np.linalg.inv(A)"
   ]
  },
  {
   "cell_type": "code",
   "execution_count": 6,
   "id": "2f170e0a",
   "metadata": {},
   "outputs": [
    {
     "data": {
      "text/plain": [
       "(array([12.40926159, -1.0410679 ,  2.63180631]),\n",
       " array([[-0.60015406, -0.86860901, -0.41375918],\n",
       "        [-0.5079998 ,  0.49470669, -0.72033286],\n",
       "        [-0.61786026,  0.02799425,  0.5567081 ]]))"
      ]
     },
     "execution_count": 6,
     "metadata": {},
     "output_type": "execute_result"
    }
   ],
   "source": [
    "# eigen values and eigen vectors of A\n",
    "np.linalg.eig(A)"
   ]
  },
  {
   "cell_type": "code",
   "execution_count": null,
   "id": "f8d942c2",
   "metadata": {},
   "outputs": [],
   "source": []
  }
 ],
 "metadata": {
  "kernelspec": {
   "display_name": "Python 3 (ipykernel)",
   "language": "python",
   "name": "python3"
  },
  "language_info": {
   "codemirror_mode": {
    "name": "ipython",
    "version": 3
   },
   "file_extension": ".py",
   "mimetype": "text/x-python",
   "name": "python",
   "nbconvert_exporter": "python",
   "pygments_lexer": "ipython3",
   "version": "3.9.12"
  }
 },
 "nbformat": 4,
 "nbformat_minor": 5
}
