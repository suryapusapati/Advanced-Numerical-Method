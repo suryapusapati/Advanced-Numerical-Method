{
 "cells": [
  {
   "cell_type": "code",
   "execution_count": 24,
   "id": "b219dd1e",
   "metadata": {},
   "outputs": [
    {
     "data": {
      "text/plain": [
       "array([[0, 8, 6],\n",
       "       [8, 7, 4],\n",
       "       [5, 5, 1]])"
      ]
     },
     "execution_count": 24,
     "metadata": {},
     "output_type": "execute_result"
    }
   ],
   "source": [
    "import numpy as np\n",
    "\n",
    "A = np.random.randint(10, size=[3,3])\n",
    "I = np.identity(3)\n",
    "A"
   ]
  },
  {
   "cell_type": "code",
   "execution_count": 25,
   "id": "428a45e1",
   "metadata": {},
   "outputs": [
    {
     "data": {
      "text/plain": [
       "126.0"
      ]
     },
     "execution_count": 25,
     "metadata": {},
     "output_type": "execute_result"
    }
   ],
   "source": [
    "# determinent of A\n",
    "np.linalg.det(A)"
   ]
  },
  {
   "cell_type": "code",
   "execution_count": 26,
   "id": "68503bc3",
   "metadata": {},
   "outputs": [
    {
     "data": {
      "text/plain": [
       "array([[ 94,  86,  38],\n",
       "       [ 76, 133,  80],\n",
       "       [ 45,  80,  51]])"
      ]
     },
     "execution_count": 26,
     "metadata": {},
     "output_type": "execute_result"
    }
   ],
   "source": [
    "# matrix multiplication\n",
    "np.dot(A,A)"
   ]
  },
  {
   "cell_type": "code",
   "execution_count": 28,
   "id": "bb2a37d8",
   "metadata": {},
   "outputs": [
    {
     "data": {
      "text/plain": [
       "array([[0, 8, 6],\n",
       "       [8, 7, 4],\n",
       "       [5, 5, 1]])"
      ]
     },
     "execution_count": 28,
     "metadata": {},
     "output_type": "execute_result"
    }
   ],
   "source": [
    "A"
   ]
  },
  {
   "cell_type": "code",
   "execution_count": 27,
   "id": "bfdcd8dd",
   "metadata": {},
   "outputs": [
    {
     "data": {
      "text/plain": [
       "array([[0., 8., 6.],\n",
       "       [8., 7., 4.],\n",
       "       [5., 5., 1.]])"
      ]
     },
     "execution_count": 27,
     "metadata": {},
     "output_type": "execute_result"
    }
   ],
   "source": [
    "np.dot(A,I)"
   ]
  },
  {
   "cell_type": "code",
   "execution_count": 29,
   "id": "ae78abea",
   "metadata": {},
   "outputs": [
    {
     "data": {
      "text/plain": [
       "array([[-0.1031746 ,  0.17460317, -0.07936508],\n",
       "       [ 0.0952381 , -0.23809524,  0.38095238],\n",
       "       [ 0.03968254,  0.31746032, -0.50793651]])"
      ]
     },
     "execution_count": 29,
     "metadata": {},
     "output_type": "execute_result"
    }
   ],
   "source": [
    "# inverse matrix of A\n",
    "np.linalg.inv(A)"
   ]
  },
  {
   "cell_type": "code",
   "execution_count": 30,
   "id": "2f170e0a",
   "metadata": {},
   "outputs": [
    {
     "data": {
      "text/plain": [
       "(array([15.45225522, -6.11984384, -1.33241138]),\n",
       " array([[ 0.54145666,  0.85278471,  0.25595007],\n",
       "        [ 0.71882829, -0.42933286, -0.60693542],\n",
       "        [ 0.43601671, -0.29737439,  0.75240877]]))"
      ]
     },
     "execution_count": 30,
     "metadata": {},
     "output_type": "execute_result"
    }
   ],
   "source": [
    "# eigen values and eigen vectors of A\n",
    "np.linalg.eig(A)"
   ]
  },
  {
   "cell_type": "code",
   "execution_count": 20,
   "id": "293ca8b9",
   "metadata": {},
   "outputs": [
    {
     "name": "stdout",
     "output_type": "stream",
     "text": [
      "0 : 2\n",
      "1 : 4\n",
      "2 : 6\n",
      "3 : 8\n",
      "4 : 10\n",
      "5 : 12\n"
     ]
    }
   ],
   "source": [
    "a = 0\n",
    "for i in range(6):\n",
    "    a+=2\n",
    "    print(i,\":\",a)"
   ]
  }
 ],
 "metadata": {
  "kernelspec": {
   "display_name": "Python 3 (ipykernel)",
   "language": "python",
   "name": "python3"
  },
  "language_info": {
   "codemirror_mode": {
    "name": "ipython",
    "version": 3
   },
   "file_extension": ".py",
   "mimetype": "text/x-python",
   "name": "python",
   "nbconvert_exporter": "python",
   "pygments_lexer": "ipython3",
   "version": "3.9.12"
  }
 },
 "nbformat": 4,
 "nbformat_minor": 5
}
